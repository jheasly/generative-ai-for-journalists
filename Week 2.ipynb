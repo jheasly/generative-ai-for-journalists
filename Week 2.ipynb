{
 "cells": [
  {
   "cell_type": "markdown",
   "id": "70c90b18-757b-4a44-8e8d-3e0882bd5474",
   "metadata": {},
   "source": [
    "# Week 2"
   ]
  },
  {
   "cell_type": "markdown",
   "id": "31770a4b-1626-4cdc-9a2f-5b249540fd46",
   "metadata": {},
   "source": [
    "Welcome to the class!\n",
    "\n",
    "We first download the required software: LangChain and its dependency `pypdf`"
   ]
  },
  {
   "cell_type": "code",
   "execution_count": null,
   "id": "d09f5e02-9571-47c2-b607-831fde5093b5",
   "metadata": {
    "scrolled": true
   },
   "outputs": [],
   "source": [
    "!pip install --upgrade pip\n",
    "!pip install --upgrade langchain pypdf"
   ]
  },
  {
   "cell_type": "markdown",
   "id": "b0323110-6e61-40cb-a8b0-ea48fbf31065",
   "metadata": {},
   "source": [
    "We then load LangChain's `pypdf` loader."
   ]
  },
  {
   "cell_type": "code",
   "execution_count": null,
   "id": "62c41117-03a0-47a1-8ceb-2be15e7adf92",
   "metadata": {},
   "outputs": [],
   "source": [
    "from langchain.document_loaders import PyPDFLoader"
   ]
  },
  {
   "cell_type": "markdown",
   "id": "ad550f88-1588-4aac-b051-12ded711781a",
   "metadata": {},
   "source": [
    "Let's first load our PDF... "
   ]
  },
  {
   "cell_type": "code",
   "execution_count": null,
   "id": "4d044718-e7d2-4fc6-9044-073329c52bfc",
   "metadata": {},
   "outputs": [],
   "source": [
    "loader = PyPDFLoader(\"Data/2021-census-population-occupied-private-dwellings-community-2001-2021.pdf\")"
   ]
  },
  {
   "cell_type": "code",
   "execution_count": null,
   "id": "ae45dec0-794d-4816-914b-f9f590c4e75c",
   "metadata": {},
   "outputs": [],
   "source": [
    "pdf = loader.load_and_split()"
   ]
  },
  {
   "cell_type": "markdown",
   "id": "20efbfc9-f265-4409-b6cd-e136859c7ab4",
   "metadata": {},
   "source": [
    "Having loaded the PDF, let's now load the CSV. "
   ]
  },
  {
   "cell_type": "code",
   "execution_count": null,
   "id": "d99fd1e7-73ce-4311-adf0-b945605891df",
   "metadata": {},
   "outputs": [],
   "source": [
    "from langchain.document_loaders.csv_loader import CSVLoader"
   ]
  },
  {
   "cell_type": "code",
   "execution_count": null,
   "id": "531ca2c7-4467-4415-93af-8aa2a2313b70",
   "metadata": {},
   "outputs": [],
   "source": [
    "loader = CSVLoader(\"Data/Urban_Design_and_Architecture_Awards_Recipients.csv\")"
   ]
  },
  {
   "cell_type": "code",
   "execution_count": null,
   "id": "2dfd82d1-8fd2-4c8f-94d2-7a7e00e9d718",
   "metadata": {},
   "outputs": [],
   "source": [
    "csv = loader.load()"
   ]
  },
  {
   "cell_type": "markdown",
   "id": "1c25ac49-bac4-4f32-8cf8-0f25af553ec9",
   "metadata": {},
   "source": [
    "Having loaded our data, we'll now download and load the embedding model."
   ]
  },
  {
   "cell_type": "code",
   "execution_count": null,
   "id": "a1d9169c-968a-4eca-bff3-8329137eb506",
   "metadata": {},
   "outputs": [],
   "source": [
    "!pip install sentence_transformers > /dev/null"
   ]
  },
  {
   "cell_type": "code",
   "execution_count": null,
   "id": "1cd23039-6d3a-4628-bff9-044925dbed4a",
   "metadata": {},
   "outputs": [],
   "source": [
    "from langchain.embeddings import HuggingFaceEmbeddings, SentenceTransformerEmbeddings"
   ]
  },
  {
   "cell_type": "code",
   "execution_count": null,
   "id": "83c921dd-c52a-4e37-8782-f80d572555f4",
   "metadata": {},
   "outputs": [],
   "source": [
    "embeddings = HuggingFaceEmbeddings(model_name=\"all-MiniLM-L6-v2\")"
   ]
  },
  {
   "cell_type": "markdown",
   "id": "50aff0a2-dcb2-4592-baf5-147393fb2a9a",
   "metadata": {},
   "source": [
    "Let's try embedding some text. Observe the output. Once you've tried it, scroll down to continue."
   ]
  },
  {
   "cell_type": "code",
   "execution_count": null,
   "id": "05996763-7f6b-4dff-83c9-793fad185b4a",
   "metadata": {},
   "outputs": [],
   "source": [
    "text = \"This is a test document.\""
   ]
  },
  {
   "cell_type": "code",
   "execution_count": null,
   "id": "f493f3d6-6ffb-4ec6-8cb9-22a632bcacbd",
   "metadata": {},
   "outputs": [],
   "source": [
    "embeddings.embed_query(text)"
   ]
  },
  {
   "cell_type": "markdown",
   "id": "9443cb7f-eb4e-4a3d-b0fd-cfe7a16b0770",
   "metadata": {},
   "source": [
    "We now have a working embedding function. Let's install Chroma."
   ]
  },
  {
   "cell_type": "code",
   "execution_count": null,
   "id": "8868b528-ad09-4e1d-85cf-46cfa534153c",
   "metadata": {},
   "outputs": [],
   "source": [
    "!pip install -U chromadb"
   ]
  },
  {
   "cell_type": "code",
   "execution_count": null,
   "id": "2df201d3-b2fe-48ce-b302-32c92f800a43",
   "metadata": {},
   "outputs": [],
   "source": [
    "from langchain.vectorstores import Chroma"
   ]
  },
  {
   "cell_type": "markdown",
   "id": "2b3cf19f-09f6-41bb-8d3f-b92c97b15d9a",
   "metadata": {},
   "source": [
    "Let's make a vector store for our loaded documents!"
   ]
  },
  {
   "cell_type": "code",
   "execution_count": null,
   "id": "141f2642-6076-4f97-bd78-9e744e327764",
   "metadata": {},
   "outputs": [],
   "source": [
    "db = Chroma.from_documents(pdf, embeddings)"
   ]
  },
  {
   "cell_type": "code",
   "execution_count": null,
   "id": "150e3aee-0239-49b7-81c2-968eefb3eb14",
   "metadata": {},
   "outputs": [],
   "source": [
    "db.add_documents(csv)"
   ]
  },
  {
   "cell_type": "markdown",
   "id": "cb091cd4-5029-4e2b-91e9-894380770efc",
   "metadata": {},
   "source": [
    "Let's try retrieving a relevant document."
   ]
  },
  {
   "cell_type": "code",
   "execution_count": null,
   "id": "5d7036fb-71f5-4b11-92c0-2212fe6521aa",
   "metadata": {},
   "outputs": [],
   "source": [
    "query = \"An award concerning art.\"\n",
    "db.similarity_search(query)"
   ]
  }
 ],
 "metadata": {
  "kernelspec": {
   "display_name": "Python 3 (ipykernel)",
   "language": "python",
   "name": "python3"
  },
  "language_info": {
   "codemirror_mode": {
    "name": "ipython",
    "version": 3
   },
   "file_extension": ".py",
   "mimetype": "text/x-python",
   "name": "python",
   "nbconvert_exporter": "python",
   "pygments_lexer": "ipython3",
   "version": "3.8.18"
  }
 },
 "nbformat": 4,
 "nbformat_minor": 5
}
